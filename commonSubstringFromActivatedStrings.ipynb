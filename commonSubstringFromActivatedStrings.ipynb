{
 "cells": [
  {
   "cell_type": "code",
   "execution_count": 1,
   "metadata": {},
   "outputs": [],
   "source": [
    "import random"
   ]
  },
  {
   "cell_type": "code",
   "execution_count": 2,
   "metadata": {},
   "outputs": [],
   "source": [
    "def readSeqIntoList(file_name):\n",
    "    with open(file_name, \"r\") as file:\n",
    "        seq_list = file.readlines()\n",
    "    \n",
    "    seq_list = [x.strip() for x in seq_list]\n",
    "    return seq_list"
   ]
  },
  {
   "cell_type": "code",
   "execution_count": 3,
   "metadata": {},
   "outputs": [],
   "source": [
    "import operator\n",
    "def getSubstringCount(seq_list):\n",
    "    sub_seq_map = {}\n",
    "    for seq in seq_list:\n",
    "        for i in range(len(seq)):\n",
    "            for j in range(i+3, len(seq)):\n",
    "                sub_seq = seq[i:j]\n",
    "                if sub_seq in sub_seq_map:\n",
    "                    sub_seq_map[sub_seq] += 1\n",
    "                else:\n",
    "                    sub_seq_map[sub_seq] = 1\n",
    "    sorted_sub_seq_map = sorted(sub_seq_map.items(), key=operator.itemgetter(1))\n",
    "    \n",
    "    # it's a tuple\n",
    "    return sorted_sub_seq_map"
   ]
  },
  {
   "cell_type": "code",
   "execution_count": 4,
   "metadata": {},
   "outputs": [
    {
     "name": "stdout",
     "output_type": "stream",
     "text": [
      "15539\n"
     ]
    }
   ],
   "source": [
    "file_name = \"activated_subsequence_list.txt\"\n",
    "seq_list = readSeqIntoList(file_name)\n",
    "print(len(seq_list))"
   ]
  },
  {
   "cell_type": "code",
   "execution_count": 7,
   "metadata": {},
   "outputs": [],
   "source": [
    "sorted_sub_seq_map = getSubstringCount(seq_list)\n",
    "output_file = \"common_substring_count.csv\"\n",
    "with open(output_file, \"w\") as file:\n",
    "    file.write(\"substring,occurance\\n\")\n",
    "    for sq, val in sorted_sub_seq_map:\n",
    "        if val > 10:\n",
    "            file.write(\"{},{}\\n\".format(sq,val))"
   ]
  },
  {
   "cell_type": "code",
   "execution_count": null,
   "metadata": {},
   "outputs": [],
   "source": []
  }
 ],
 "metadata": {
  "kernelspec": {
   "display_name": "Python 3",
   "language": "python",
   "name": "python3"
  },
  "language_info": {
   "codemirror_mode": {
    "name": "ipython",
    "version": 3
   },
   "file_extension": ".py",
   "mimetype": "text/x-python",
   "name": "python",
   "nbconvert_exporter": "python",
   "pygments_lexer": "ipython3",
   "version": "3.6.5"
  }
 },
 "nbformat": 4,
 "nbformat_minor": 2
}
